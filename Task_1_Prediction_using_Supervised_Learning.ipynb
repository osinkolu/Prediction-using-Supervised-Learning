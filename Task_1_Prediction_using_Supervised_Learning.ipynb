{
  "nbformat": 4,
  "nbformat_minor": 0,
  "metadata": {
    "colab": {
      "name": "Task#1 Prediction using Supervised Learning.ipynb",
      "provenance": [],
      "collapsed_sections": [],
      "authorship_tag": "ABX9TyPROJlsUU74Ql7XI5jpO+O2",
      "include_colab_link": true
    },
    "kernelspec": {
      "name": "python3",
      "display_name": "Python 3"
    }
  },
  "cells": [
    {
      "cell_type": "markdown",
      "metadata": {
        "id": "view-in-github",
        "colab_type": "text"
      },
      "source": [
        "<a href=\"https://colab.research.google.com/github/aditibane/Prediction-using-Supervised-Learning/blob/main/Task_1_Prediction_using_Supervised_Learning.ipynb\" target=\"_parent\"><img src=\"https://colab.research.google.com/assets/colab-badge.svg\" alt=\"Open In Colab\"/></a>"
      ]
    },
    {
      "cell_type": "markdown",
      "metadata": {
        "id": "WAbLvi3Qo7fP"
      },
      "source": [
        "# Author: Aditi Bane\n",
        "\n",
        "**Task 1: Prediction using Supervised ML**\n",
        "\n",
        "\n",
        "**Linear Regression with Python Scikit Learn**\n",
        "\n",
        "---\n",
        "\n",
        "\n",
        "\n",
        "In this section we will see how the Python Scikit-Learn library for machine learning can be used to implement regression functions. We will start with simple linear regression involving two variables.\n",
        "\n",
        "**Simple Linear Regression**\n",
        "\n",
        "---\n",
        "\n",
        "\n",
        "In this regression task we will predict the percentage of marks that a student is expected to score based upon the number of hours they studied. This is a simple linear regression task as it involves just two variables.\n",
        "\n",
        "Technology Stack: Pandas, Numpy, Matplotlib, SkitLearn"
      ]
    },
    {
      "cell_type": "markdown",
      "metadata": {
        "id": "w0ZhLN2sqFtD"
      },
      "source": [
        "Importing necessary libraries"
      ]
    },
    {
      "cell_type": "code",
      "metadata": {
        "id": "CVZC_rbap25p"
      },
      "source": [
        "import pandas as pd\n",
        "import numpy as np  \n",
        "import matplotlib.pyplot as plt  \n",
        "%matplotlib inline\n",
        "import seaborn as sns\n",
       
      ],
      "execution_count": null,
      "outputs": []
    },
    {
      "cell_type": "markdown",
      "metadata": {
        "id": "gL5nQRgCq1DI"
      },
      "source": [
        "Importing the dataset through URL"
      ]
    },
    {
      "cell_type": "code",
      "metadata": {
        "id": "sNBBy2ROqEX0",
        "outputId": "2fe5b3b9-3d7d-4b14-a525-f114e31298cf",
        "colab": {
          "base_uri": "https://localhost:8080/"
        }
      },
      "source": [
        "url = \"http://bit.ly/w-data\"\n",
        "data = pd.read_csv(url)\n",
        "print(\"Data imported successfully\")"
      ],
      "execution_count": null,
      "outputs": [
        {
          "output_type": "stream",
          "text": [
            "Data imported successfully\n"
          ],
          "name": "stdout"
        }
      ]
    },
    {
      "cell_type": "markdown",
      "metadata": {
        "id": "oj5FIOgzrGAs"
      },
      "source": [
        "Visualizing first six rows of our imported data"
      ]
    },
    {
      "cell_type": "code",
      "metadata": {
        "id": "1VgLJPZQq46S",
        "outputId": "b3d89247-61e7-43ec-8186-221ffbd14e4a",
        "colab": {
          "base_uri": "https://localhost:8080/",
          "height": 223
        }
      },
      "source": [
        "data.head(6)"
      ],
      "execution_count": null,
      "outputs": [
        {
          "output_type": "execute_result",
          "data": {
            "text/html": [
              "<div>\n",
              "<style scoped>\n",
              "    .dataframe tbody tr th:only-of-type {\n",
              "        vertical-align: middle;\n",
              "    }\n",
              "\n",
              "    .dataframe tbody tr th {\n",
              "        vertical-align: top;\n",
              "    }\n",
              "\n",
              "    .dataframe thead th {\n",
              "        text-align: right;\n",
              "    }\n",
              "</style>\n",
              "<table border=\"1\" class=\"dataframe\">\n",
              "  <thead>\n",
              "    <tr style=\"text-align: right;\">\n",
              "      <th></th>\n",
              "      <th>Hours</th>\n",
              "      <th>Scores</th>\n",
              "    </tr>\n",
              "  </thead>\n",
              "  <tbody>\n",
              "    <tr>\n",
              "      <th>0</th>\n",
              "      <td>2.5</td>\n",
              "      <td>21</td>\n",
              "    </tr>\n",
              "    <tr>\n",
              "      <th>1</th>\n",
              "      <td>5.1</td>\n",
              "      <td>47</td>\n",
              "    </tr>\n",
              "    <tr>\n",
              "      <th>2</th>\n",
              "      <td>3.2</td>\n",
              "      <td>27</td>\n",
              "    </tr>\n",
              "    <tr>\n",
              "      <th>3</th>\n",
              "      <td>8.5</td>\n",
              "      <td>75</td>\n",
              "    </tr>\n",
              "    <tr>\n",
              "      <th>4</th>\n",
              "      <td>3.5</td>\n",
              "      <td>30</td>\n",
              "    </tr>\n",
              "    <tr>\n",
              "      <th>5</th>\n",
              "      <td>1.5</td>\n",
              "      <td>20</td>\n",
              "    </tr>\n",
              "  </tbody>\n",
              "</table>\n",
              "</div>"
            ],
            "text/plain": [
              "   Hours  Scores\n",
              "0    2.5      21\n",
              "1    5.1      47\n",
              "2    3.2      27\n",
              "3    8.5      75\n",
              "4    3.5      30\n",
              "5    1.5      20"
            ]
          },
          "metadata": {
            "tags": []
          },
          "execution_count": 3
        }
      ]
    },
    {
      "cell_type": "markdown",
      "metadata": {
        "id": "ThTsOYGYruU-"
      },
      "source": [
        " Creating two separate dataframes from data, Hours as x (Features set), and Scores as y (Depenent data set)"
      ]
    },
    {
      "cell_type": "code",
      "metadata": {
        "id": "NpZD5rURrSU8"
      },
      "source": [
        "x = data[['Hours']]\n",
        "y = data[['Scores']]"
      ],
      "execution_count": null,
      "outputs": []
    },
    {
      "cell_type": "markdown",
      "metadata": {
        "id": "nafwGArdsJky"
      },
      "source": [
        "Spliting x and y dataframes into training and test set using scikit learn library\n",
        "\n",
        "Training set kept as 67% and test set as 33%"
      ]
    },
    {
      "cell_type": "code",
      "metadata": {
        "id": "xGSNIsjfsQJm"
      },
      "source": [
        "from sklearn.model_selection import train_test_split\n",
        "x_train, x_test, y_train, y_test = train_test_split(x,y,test_size=0.33,random_state=42)"
      ],
      "execution_count": null,
      "outputs": []
    },
    {
      "cell_type": "markdown",
      "metadata": {
        "id": "6rEjahDor0lp"
      },
      "source": [
        "Viewing the Training data set"
      ]
    },
    {
      "cell_type": "code",
      "metadata": {
        "id": "MlFxSuBZr0yd",
        "outputId": "e276afe2-a2c3-4bf0-eae7-e58924a1350a",
        "colab": {
          "base_uri": "https://localhost:8080/",
          "height": 516
        }
      },
      "source": [
        "train_set = pd.DataFrame({'X_Train (Hours)':x_train.values.flatten(),'Y_Train (Score)':y_train.values.flatten()},index = np.arange(0,16,1))\n",
        "train_set"
      ],
      "execution_count": null,
      "outputs": [
        {
          "output_type": "execute_result",
          "data": {
            "text/html": [
              "<div>\n",
              "<style scoped>\n",
              "    .dataframe tbody tr th:only-of-type {\n",
              "        vertical-align: middle;\n",
              "    }\n",
              "\n",
              "    .dataframe tbody tr th {\n",
              "        vertical-align: top;\n",
              "    }\n",
              "\n",
              "    .dataframe thead th {\n",
              "        text-align: right;\n",
              "    }\n",
              "</style>\n",
              "<table border=\"1\" class=\"dataframe\">\n",
              "  <thead>\n",
              "    <tr style=\"text-align: right;\">\n",
              "      <th></th>\n",
              "      <th>X_Train (Hours)</th>\n",
              "      <th>Y_Train (Score)</th>\n",
              "    </tr>\n",
              "  </thead>\n",
              "  <tbody>\n",
              "    <tr>\n",
              "      <th>0</th>\n",
              "      <td>1.5</td>\n",
              "      <td>20</td>\n",
              "    </tr>\n",
              "    <tr>\n",
              "      <th>1</th>\n",
              "      <td>3.2</td>\n",
              "      <td>27</td>\n",
              "    </tr>\n",
              "    <tr>\n",
              "      <th>2</th>\n",
              "      <td>4.5</td>\n",
              "      <td>41</td>\n",
              "    </tr>\n",
              "    <tr>\n",
              "      <th>3</th>\n",
              "      <td>8.9</td>\n",
              "      <td>95</td>\n",
              "    </tr>\n",
              "    <tr>\n",
              "      <th>4</th>\n",
              "      <td>8.5</td>\n",
              "      <td>75</td>\n",
              "    </tr>\n",
              "    <tr>\n",
              "      <th>5</th>\n",
              "      <td>3.5</td>\n",
              "      <td>30</td>\n",
              "    </tr>\n",
              "    <tr>\n",
              "      <th>6</th>\n",
              "      <td>2.7</td>\n",
              "      <td>30</td>\n",
              "    </tr>\n",
              "    <tr>\n",
              "      <th>7</th>\n",
              "      <td>1.9</td>\n",
              "      <td>24</td>\n",
              "    </tr>\n",
              "    <tr>\n",
              "      <th>8</th>\n",
              "      <td>4.8</td>\n",
              "      <td>54</td>\n",
              "    </tr>\n",
              "    <tr>\n",
              "      <th>9</th>\n",
              "      <td>6.1</td>\n",
              "      <td>67</td>\n",
              "    </tr>\n",
              "    <tr>\n",
              "      <th>10</th>\n",
              "      <td>7.8</td>\n",
              "      <td>86</td>\n",
              "    </tr>\n",
              "    <tr>\n",
              "      <th>11</th>\n",
              "      <td>5.5</td>\n",
              "      <td>60</td>\n",
              "    </tr>\n",
              "    <tr>\n",
              "      <th>12</th>\n",
              "      <td>7.7</td>\n",
              "      <td>85</td>\n",
              "    </tr>\n",
              "    <tr>\n",
              "      <th>13</th>\n",
              "      <td>1.1</td>\n",
              "      <td>17</td>\n",
              "    </tr>\n",
              "    <tr>\n",
              "      <th>14</th>\n",
              "      <td>7.4</td>\n",
              "      <td>69</td>\n",
              "    </tr>\n",
              "    <tr>\n",
              "      <th>15</th>\n",
              "      <td>9.2</td>\n",
              "      <td>88</td>\n",
              "    </tr>\n",
              "  </tbody>\n",
              "</table>\n",
              "</div>"
            ],
            "text/plain": [
              "    X_Train (Hours)  Y_Train (Score)\n",
              "0               1.5               20\n",
              "1               3.2               27\n",
              "2               4.5               41\n",
              "3               8.9               95\n",
              "4               8.5               75\n",
              "5               3.5               30\n",
              "6               2.7               30\n",
              "7               1.9               24\n",
              "8               4.8               54\n",
              "9               6.1               67\n",
              "10              7.8               86\n",
              "11              5.5               60\n",
              "12              7.7               85\n",
              "13              1.1               17\n",
              "14              7.4               69\n",
              "15              9.2               88"
            ]
          },
          "metadata": {
            "tags": []
          },
          "execution_count": 6
        }
      ]
    },
    {
      "cell_type": "markdown",
      "metadata": {
        "id": "HodFijVzseLk"
      },
      "source": [
        "Viewing the Test data set"
      ]
    },
    {
      "cell_type": "code",
      "metadata": {
        "id": "oMPurYfWsea6",
        "outputId": "5dfbdb5e-b704-4bcf-a597-e06f28af081a",
        "colab": {
          "base_uri": "https://localhost:8080/",
          "height": 311
        }
      },
      "source": [
        "test_set = pd.DataFrame({'X_Test (Hours)':x_test.values.flatten(),'Y_test (Score)':y_test.values.flatten()},index = np.arange(0,9,1))\n",
        "test_set"
      ],
      "execution_count": null,
      "outputs": [
        {
          "output_type": "execute_result",
          "data": {
            "text/html": [
              "<div>\n",
              "<style scoped>\n",
              "    .dataframe tbody tr th:only-of-type {\n",
              "        vertical-align: middle;\n",
              "    }\n",
              "\n",
              "    .dataframe tbody tr th {\n",
              "        vertical-align: top;\n",
              "    }\n",
              "\n",
              "    .dataframe thead th {\n",
              "        text-align: right;\n",
              "    }\n",
              "</style>\n",
              "<table border=\"1\" class=\"dataframe\">\n",
              "  <thead>\n",
              "    <tr style=\"text-align: right;\">\n",
              "      <th></th>\n",
              "      <th>X_Test (Hours)</th>\n",
              "      <th>Y_test (Score)</th>\n",
              "    </tr>\n",
              "  </thead>\n",
              "  <tbody>\n",
              "    <tr>\n",
              "      <th>0</th>\n",
              "      <td>8.3</td>\n",
              "      <td>81</td>\n",
              "    </tr>\n",
              "    <tr>\n",
              "      <th>1</th>\n",
              "      <td>2.5</td>\n",
              "      <td>30</td>\n",
              "    </tr>\n",
              "    <tr>\n",
              "      <th>2</th>\n",
              "      <td>2.5</td>\n",
              "      <td>21</td>\n",
              "    </tr>\n",
              "    <tr>\n",
              "      <th>3</th>\n",
              "      <td>6.9</td>\n",
              "      <td>76</td>\n",
              "    </tr>\n",
              "    <tr>\n",
              "      <th>4</th>\n",
              "      <td>5.9</td>\n",
              "      <td>62</td>\n",
              "    </tr>\n",
              "    <tr>\n",
              "      <th>5</th>\n",
              "      <td>2.7</td>\n",
              "      <td>25</td>\n",
              "    </tr>\n",
              "    <tr>\n",
              "      <th>6</th>\n",
              "      <td>3.3</td>\n",
              "      <td>42</td>\n",
              "    </tr>\n",
              "    <tr>\n",
              "      <th>7</th>\n",
              "      <td>5.1</td>\n",
              "      <td>47</td>\n",
              "    </tr>\n",
              "    <tr>\n",
              "      <th>8</th>\n",
              "      <td>3.8</td>\n",
              "      <td>35</td>\n",
              "    </tr>\n",
              "  </tbody>\n",
              "</table>\n",
              "</div>"
            ],
            "text/plain": [
              "   X_Test (Hours)  Y_test (Score)\n",
              "0             8.3              81\n",
              "1             2.5              30\n",
              "2             2.5              21\n",
              "3             6.9              76\n",
              "4             5.9              62\n",
              "5             2.7              25\n",
              "6             3.3              42\n",
              "7             5.1              47\n",
              "8             3.8              35"
            ]
          },
          "metadata": {
            "tags": []
          },
          "execution_count": 7
        }
      ]
    },
    {
      "cell_type": "markdown",
      "metadata": {
        "id": "DoIp319tsnmJ"
      },
      "source": [
        "Creating a Linear regression model using scikit learn library"
      ]
    },
    {
      "cell_type": "code",
      "metadata": {
        "id": "MW1k3ZSfsn_y"
      },
      "source": [
        "from sklearn.linear_model import LinearRegression\n",
        "lr = LinearRegression()"
      ],
      "execution_count": null,
      "outputs": []
    },
    {
      "cell_type": "markdown",
      "metadata": {
        "id": "nWUXl3igsu3P"
      },
      "source": [
        "Training the model on training data i.e. x_train and y_train"
      ]
    },
    {
      "cell_type": "code",
      "metadata": {
        "id": "puNnlkIjsvJ_",
        "outputId": "b97c8bc3-401d-45a8-f9fa-c30b2d1d4721",
        "colab": {
          "base_uri": "https://localhost:8080/"
        }
      },
      "source": [
        "lr.fit(x_train,y_train)"
      ],
      "execution_count": null,
      "outputs": [
        {
          "output_type": "execute_result",
          "data": {
            "text/plain": [
              "LinearRegression(copy_X=True, fit_intercept=True, n_jobs=None, normalize=False)"
            ]
          },
          "metadata": {
            "tags": []
          },
          "execution_count": 9
        }
      ]
    },
    {
      "cell_type": "markdown",
      "metadata": {
        "id": "As4mEW34s_J0"
      },
      "source": [
        "Executing the trained model on x_test data i.e. Hours and viewing the predicted scores"
      ]
    },
    {
      "cell_type": "code",
      "metadata": {
        "id": "DtWdzm7etAMt",
        "outputId": "fd909932-1ca9-4268-b911-a9b82ca53fb4",
        "colab": {
          "base_uri": "https://localhost:8080/"
        }
      },
      "source": [
        "y_predict = lr.predict(x_test)\n",
        "y_predict"
      ],
      "execution_count": null,
      "outputs": [
        {
          "output_type": "execute_result",
          "data": {
            "text/plain": [
              "array([[83.50244409],\n",
              "       [27.53075726],\n",
              "       [27.53075726],\n",
              "       [69.99203692],\n",
              "       [60.34174609],\n",
              "       [29.46081542],\n",
              "       [35.25098992],\n",
              "       [52.62151342],\n",
              "       [40.07613534]])"
            ]
          },
          "metadata": {
            "tags": []
          },
          "execution_count": 10
        }
      ]
    },
    {
      "cell_type": "markdown",
      "metadata": {
        "id": "uECR4n5itHEP"
      },
      "source": [
        "Tabular Comparison of Actual score (y_test) with the predicted scores (y_predict) for a common Hours of study i.e x_test"
      ]
    },
    {
      "cell_type": "code",
      "metadata": {
        "id": "25S4j5g8tHza",
        "outputId": "e2a1fbef-a96b-4247-c970-9ea352a814e8",
        "colab": {
          "base_uri": "https://localhost:8080/",
          "height": 311
        }
      },
      "source": [
        "comp = pd.DataFrame({'Hours of study (x_test)':x_test.values.flatten(),'Actual Scores (y_test)':y_test.values.flatten(),'Predicted Scores (y_predictredict)':y_predict.flatten()},index=np.arange(0,9,1))\n",
        "comp"
      ],
      "execution_count": null,
      "outputs": [
        {
          "output_type": "execute_result",
          "data": {
            "text/html": [
              "<div>\n",
              "<style scoped>\n",
              "    .dataframe tbody tr th:only-of-type {\n",
              "        vertical-align: middle;\n",
              "    }\n",
              "\n",
              "    .dataframe tbody tr th {\n",
              "        vertical-align: top;\n",
              "    }\n",
              "\n",
              "    .dataframe thead th {\n",
              "        text-align: right;\n",
              "    }\n",
              "</style>\n",
              "<table border=\"1\" class=\"dataframe\">\n",
              "  <thead>\n",
              "    <tr style=\"text-align: right;\">\n",
              "      <th></th>\n",
              "      <th>Hours of study (x_test)</th>\n",
              "      <th>Actual Scores (y_test)</th>\n",
              "      <th>Predicted Scores (y_predictredict)</th>\n",
              "    </tr>\n",
              "  </thead>\n",
              "  <tbody>\n",
              "    <tr>\n",
              "      <th>0</th>\n",
              "      <td>8.3</td>\n",
              "      <td>81</td>\n",
              "      <td>83.502444</td>\n",
              "    </tr>\n",
              "    <tr>\n",
              "      <th>1</th>\n",
              "      <td>2.5</td>\n",
              "      <td>30</td>\n",
              "      <td>27.530757</td>\n",
              "    </tr>\n",
              "    <tr>\n",
              "      <th>2</th>\n",
              "      <td>2.5</td>\n",
              "      <td>21</td>\n",
              "      <td>27.530757</td>\n",
              "    </tr>\n",
              "    <tr>\n",
              "      <th>3</th>\n",
              "      <td>6.9</td>\n",
              "      <td>76</td>\n",
              "      <td>69.992037</td>\n",
              "    </tr>\n",
              "    <tr>\n",
              "      <th>4</th>\n",
              "      <td>5.9</td>\n",
              "      <td>62</td>\n",
              "      <td>60.341746</td>\n",
              "    </tr>\n",
              "    <tr>\n",
              "      <th>5</th>\n",
              "      <td>2.7</td>\n",
              "      <td>25</td>\n",
              "      <td>29.460815</td>\n",
              "    </tr>\n",
              "    <tr>\n",
              "      <th>6</th>\n",
              "      <td>3.3</td>\n",
              "      <td>42</td>\n",
              "      <td>35.250990</td>\n",
              "    </tr>\n",
              "    <tr>\n",
              "      <th>7</th>\n",
              "      <td>5.1</td>\n",
              "      <td>47</td>\n",
              "      <td>52.621513</td>\n",
              "    </tr>\n",
              "    <tr>\n",
              "      <th>8</th>\n",
              "      <td>3.8</td>\n",
              "      <td>35</td>\n",
              "      <td>40.076135</td>\n",
              "    </tr>\n",
              "  </tbody>\n",
              "</table>\n",
              "</div>"
            ],
            "text/plain": [
              "   Hours of study (x_test)  ...  Predicted Scores (y_predictredict)\n",
              "0                      8.3  ...                           83.502444\n",
              "1                      2.5  ...                           27.530757\n",
              "2                      2.5  ...                           27.530757\n",
              "3                      6.9  ...                           69.992037\n",
              "4                      5.9  ...                           60.341746\n",
              "5                      2.7  ...                           29.460815\n",
              "6                      3.3  ...                           35.250990\n",
              "7                      5.1  ...                           52.621513\n",
              "8                      3.8  ...                           40.076135\n",
              "\n",
              "[9 rows x 3 columns]"
            ]
          },
          "metadata": {
            "tags": []
          },
          "execution_count": 11
        }
      ]
    },
    {
      "cell_type": "markdown",
      "metadata": {
        "id": "KxJkzMIBtKWw"
      },
      "source": [
        " Visual Comparison of Hours of study(x_test) vs Actual Scores(y_test) and Hours of study(x_test) vs Predicted Scores(y_predict)"
      ]
    },
    {
      "cell_type": "code",
      "metadata": {
        "id": "a1NidjiotKoM",
        "outputId": "0600596c-8b06-4389-e4af-a7fe3443f662",
        "colab": {
          "base_uri": "https://localhost:8080/",
          "height": 297
        }
      },
      "source": [
        "plt.subplot(1,2,1)\n",
        "plt.scatter(x_test,y_test)\n",
        "plt.xlabel('Hours of study')\n",
        "plt.ylabel('Actual Scores')\n",
        "plt.title('Hours of study vs Actual Scores')\n",
        "\n",
        "\n",
        "plt.subplot(1,2,2)\n",
        "plt.scatter(x_test,y_predict)\n",
        "plt.xlabel('Hours of study')\n",
        "plt.ylabel('Predicted Scores')\n",
        "plt.title('Hours of study vs Predicted Scores')\n",
        "plt.tight_layout()"
      ],
      "execution_count": null,
      "outputs": [
        {
          "output_type": "display_data",
          "data": {
            "image/png": "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\n",
            "text/plain": [
              "<Figure size 432x288 with 2 Axes>"
            ]
          },
          "metadata": {
            "tags": [],
            "needs_background": "light"
          }
        }
      ]
    },
    {
      "cell_type": "markdown",
      "metadata": {
        "id": "8GA6vCJnta3h"
      },
      "source": [
        "Viewing Linear regression plot Hours of Study (x_test) v/s Predicted Score (y_predict)"
      ]
    },
    {
      "cell_type": "code",
      "metadata": {
        "id": "2LT4SttLtbZL",
        "outputId": "9e3ff2f2-8482-407b-962a-94c191b0c60a",
        "colab": {
          "base_uri": "https://localhost:8080/",
          "height": 401
        }
      },
      "source": [
        "conv_arr= x_test.values\n",
        "data1 = pd.DataFrame({'Hours of study':x_test.values.flatten(),'Predicted Scores':y_predict.flatten()},index = np.arange(0,9,1))\n",
        "sns.lmplot(x='Hours of study',y='Predicted Scores',data=data1)"
      ],
      "execution_count": null,
      "outputs": [
        {
          "output_type": "execute_result",
          "data": {
            "text/plain": [
              "<seaborn.axisgrid.FacetGrid at 0x7f9b93f71c18>"
            ]
          },
          "metadata": {
            "tags": []
          },
          "execution_count": 13
        },
        {
          "output_type": "display_data",
          "data": {
            "image/png": "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\n",
            "text/plain": [
              "<Figure size 360x360 with 1 Axes>"
            ]
          },
          "metadata": {
            "tags": [],
            "needs_background": "light"
          }
        }
      ]
    },
    {
      "cell_type": "markdown",
      "metadata": {
        "id": "5IYdZvQQtenh"
      },
      "source": [
        "Ploting the difference of true marks and predicted marks as distribution plot"
      ]
    },
    {
      "cell_type": "code",
      "metadata": {
        "id": "bpw_fLBxttK7",
        "outputId": "6ffe7b44-0df5-4cbb-fc03-258364f3c904",
        "colab": {
          "base_uri": "https://localhost:8080/",
          "height": 338
        }
      },
      "source": [
        "sns.distplot(y_test-y_predict)"
      ],
      "execution_count": null,
      "outputs": [
        {
          "output_type": "stream",
          "text": [
            "/usr/local/lib/python3.6/dist-packages/seaborn/distributions.py:2551: FutureWarning: `distplot` is a deprecated function and will be removed in a future version. Please adapt your code to use either `displot` (a figure-level function with similar flexibility) or `histplot` (an axes-level function for histograms).\n",
            "  warnings.warn(msg, FutureWarning)\n"
          ],
          "name": "stderr"
        },
        {
          "output_type": "execute_result",
          "data": {
            "text/plain": [
              "<matplotlib.axes._subplots.AxesSubplot at 0x7f9b916c1278>"
            ]
          },
          "metadata": {
            "tags": []
          },
          "execution_count": 14
        },
        {
          "output_type": "display_data",
          "data": {
            "image/png": "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\n",
            "text/plain": [
              "<Figure size 432x288 with 1 Axes>"
            ]
          },
          "metadata": {
            "tags": [],
            "needs_background": "light"
          }
        }
      ]
    },
    {
      "cell_type": "markdown",
      "metadata": {
        "id": "XoAxHKAktz0o"
      },
      "source": [
        "Predicting the marks for 9.25 hrs of study per day"
      ]
    },
    {
      "cell_type": "code",
      "metadata": {
        "id": "3dsfMNy7t0ct",
        "outputId": "0b05509e-cf08-4659-82c4-c340badbb905",
        "colab": {
          "base_uri": "https://localhost:8080/"
        }
      },
      "source": [
        "print(lr.predict([[9.25]]))"
      ],
      "execution_count": null,
      "outputs": [
        {
          "output_type": "stream",
          "text": [
            "[[92.67022038]]\n"
          ],
          "name": "stdout"
        }
      ]
    },
    {
      "cell_type": "markdown",
      "metadata": {
        "id": "7lJWI1__t6mv"
      },
      "source": [
        "Score predicted  for 9.25 hours of study is approximately 92"
      ]
    },
    {
      "cell_type": "markdown",
      "metadata": {
        "id": "ROVsD-aTxqfd"
      },
      "source": [
        "Evaluating the model"
      ]
    },
    {
      "cell_type": "code",
      "metadata": {
        "id": "VKyIjWCYxrzr",
        "outputId": "4fb4e079-72e0-43e9-a6d7-f7c0b1bed63d",
        "colab": {
          "base_uri": "https://localhost:8080/"
        }
      },
      "source": [
        "from sklearn import metrics  \n",
        "print('Mean Absolute Error:', \n",
        "      metrics.mean_absolute_error(y_test, y_predict)) "
      ],
      "execution_count": null,
      "outputs": [
        {
          "output_type": "stream",
          "text": [
            "Mean Absolute Error: 4.564015037730867\n"
          ],
          "name": "stdout"
        }
      ]
    }
  ]
}
